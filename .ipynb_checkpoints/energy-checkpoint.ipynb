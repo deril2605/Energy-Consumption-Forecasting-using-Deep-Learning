{
 "cells": [
  {
   "cell_type": "code",
   "execution_count": 85,
   "metadata": {},
   "outputs": [],
   "source": [
    "import pandas as pd\n",
    "import numpy as np"
   ]
  },
  {
   "cell_type": "code",
   "execution_count": 86,
   "metadata": {},
   "outputs": [],
   "source": [
    "import tensorflow as tf\n",
    "from tensorflow.keras.models import Sequential\n",
    "from tensorflow.keras.layers import LSTM,Dense,Flatten,TimeDistributed,RepeatVector,Conv1D,MaxPooling1D, ConvLSTM2D\n",
    "from matplotlib import pyplot"
   ]
  },
  {
   "cell_type": "code",
   "execution_count": 87,
   "metadata": {},
   "outputs": [],
   "source": [
    "df = pd.read_csv('./household_power_consumption.txt',sep=';',low_memory=False, header=0, infer_datetime_format=True,parse_dates={'datetime':[0,1]}, index_col=['datetime'])"
   ]
  },
  {
   "cell_type": "code",
   "execution_count": 88,
   "metadata": {},
   "outputs": [
    {
     "data": {
      "text/html": [
       "<div>\n",
       "<style scoped>\n",
       "    .dataframe tbody tr th:only-of-type {\n",
       "        vertical-align: middle;\n",
       "    }\n",
       "\n",
       "    .dataframe tbody tr th {\n",
       "        vertical-align: top;\n",
       "    }\n",
       "\n",
       "    .dataframe thead th {\n",
       "        text-align: right;\n",
       "    }\n",
       "</style>\n",
       "<table border=\"1\" class=\"dataframe\">\n",
       "  <thead>\n",
       "    <tr style=\"text-align: right;\">\n",
       "      <th></th>\n",
       "      <th>Global_active_power</th>\n",
       "      <th>Global_reactive_power</th>\n",
       "      <th>Voltage</th>\n",
       "      <th>Global_intensity</th>\n",
       "      <th>Sub_metering_1</th>\n",
       "      <th>Sub_metering_2</th>\n",
       "      <th>Sub_metering_3</th>\n",
       "    </tr>\n",
       "    <tr>\n",
       "      <th>datetime</th>\n",
       "      <th></th>\n",
       "      <th></th>\n",
       "      <th></th>\n",
       "      <th></th>\n",
       "      <th></th>\n",
       "      <th></th>\n",
       "      <th></th>\n",
       "    </tr>\n",
       "  </thead>\n",
       "  <tbody>\n",
       "    <tr>\n",
       "      <th>2006-12-16 17:24:00</th>\n",
       "      <td>4.216</td>\n",
       "      <td>0.418</td>\n",
       "      <td>234.840</td>\n",
       "      <td>18.400</td>\n",
       "      <td>0.000</td>\n",
       "      <td>1.000</td>\n",
       "      <td>17.0</td>\n",
       "    </tr>\n",
       "    <tr>\n",
       "      <th>2006-12-16 17:25:00</th>\n",
       "      <td>5.360</td>\n",
       "      <td>0.436</td>\n",
       "      <td>233.630</td>\n",
       "      <td>23.000</td>\n",
       "      <td>0.000</td>\n",
       "      <td>1.000</td>\n",
       "      <td>16.0</td>\n",
       "    </tr>\n",
       "    <tr>\n",
       "      <th>2006-12-16 17:26:00</th>\n",
       "      <td>5.374</td>\n",
       "      <td>0.498</td>\n",
       "      <td>233.290</td>\n",
       "      <td>23.000</td>\n",
       "      <td>0.000</td>\n",
       "      <td>2.000</td>\n",
       "      <td>17.0</td>\n",
       "    </tr>\n",
       "    <tr>\n",
       "      <th>2006-12-16 17:27:00</th>\n",
       "      <td>5.388</td>\n",
       "      <td>0.502</td>\n",
       "      <td>233.740</td>\n",
       "      <td>23.000</td>\n",
       "      <td>0.000</td>\n",
       "      <td>1.000</td>\n",
       "      <td>17.0</td>\n",
       "    </tr>\n",
       "    <tr>\n",
       "      <th>2006-12-16 17:28:00</th>\n",
       "      <td>3.666</td>\n",
       "      <td>0.528</td>\n",
       "      <td>235.680</td>\n",
       "      <td>15.800</td>\n",
       "      <td>0.000</td>\n",
       "      <td>1.000</td>\n",
       "      <td>17.0</td>\n",
       "    </tr>\n",
       "  </tbody>\n",
       "</table>\n",
       "</div>"
      ],
      "text/plain": [
       "                    Global_active_power Global_reactive_power  Voltage  \\\n",
       "datetime                                                                 \n",
       "2006-12-16 17:24:00               4.216                 0.418  234.840   \n",
       "2006-12-16 17:25:00               5.360                 0.436  233.630   \n",
       "2006-12-16 17:26:00               5.374                 0.498  233.290   \n",
       "2006-12-16 17:27:00               5.388                 0.502  233.740   \n",
       "2006-12-16 17:28:00               3.666                 0.528  235.680   \n",
       "\n",
       "                    Global_intensity Sub_metering_1 Sub_metering_2  \\\n",
       "datetime                                                             \n",
       "2006-12-16 17:24:00           18.400          0.000          1.000   \n",
       "2006-12-16 17:25:00           23.000          0.000          1.000   \n",
       "2006-12-16 17:26:00           23.000          0.000          2.000   \n",
       "2006-12-16 17:27:00           23.000          0.000          1.000   \n",
       "2006-12-16 17:28:00           15.800          0.000          1.000   \n",
       "\n",
       "                     Sub_metering_3  \n",
       "datetime                             \n",
       "2006-12-16 17:24:00            17.0  \n",
       "2006-12-16 17:25:00            16.0  \n",
       "2006-12-16 17:26:00            17.0  \n",
       "2006-12-16 17:27:00            17.0  \n",
       "2006-12-16 17:28:00            17.0  "
      ]
     },
     "execution_count": 88,
     "metadata": {},
     "output_type": "execute_result"
    }
   ],
   "source": [
    "df.head()"
   ]
  },
  {
   "cell_type": "code",
   "execution_count": 89,
   "metadata": {},
   "outputs": [
    {
     "data": {
      "text/plain": [
       "Global_active_power          0\n",
       "Global_reactive_power        0\n",
       "Voltage                      0\n",
       "Global_intensity             0\n",
       "Sub_metering_1               0\n",
       "Sub_metering_2               0\n",
       "Sub_metering_3           25979\n",
       "dtype: int64"
      ]
     },
     "execution_count": 89,
     "metadata": {},
     "output_type": "execute_result"
    }
   ],
   "source": [
    "df.isnull().sum()"
   ]
  },
  {
   "cell_type": "code",
   "execution_count": 90,
   "metadata": {},
   "outputs": [],
   "source": [
    "df.replace('?',np.nan, inplace=True)\n",
    "df = df.astype('float32')"
   ]
  },
  {
   "cell_type": "code",
   "execution_count": 91,
   "metadata": {},
   "outputs": [],
   "source": [
    "def fill_missing(values):\n",
    "    one_day = 60*24\n",
    "    for row in range(df.shape[0]):\n",
    "        for col in range(df.shape[1]):\n",
    "            if np.isnan(values[row][col]):\n",
    "                values[row,col] = values[row-one_day,col]"
   ]
  },
  {
   "cell_type": "code",
   "execution_count": 92,
   "metadata": {},
   "outputs": [],
   "source": [
    "fill_missing(df.values)"
   ]
  },
  {
   "cell_type": "code",
   "execution_count": 93,
   "metadata": {},
   "outputs": [],
   "source": [
    "values = df.values\n",
    "df['Sub_metering_4'] = (values[:,0] * 1000 / 60) - (values[:,4] + values[:,5] + values[:,6])"
   ]
  },
  {
   "cell_type": "code",
   "execution_count": null,
   "metadata": {},
   "outputs": [],
   "source": [
    "df.to_csv('power_consump.csv')"
   ]
  },
  {
   "cell_type": "code",
   "execution_count": 94,
   "metadata": {},
   "outputs": [
    {
     "data": {
      "text/html": [
       "<div>\n",
       "<style scoped>\n",
       "    .dataframe tbody tr th:only-of-type {\n",
       "        vertical-align: middle;\n",
       "    }\n",
       "\n",
       "    .dataframe tbody tr th {\n",
       "        vertical-align: top;\n",
       "    }\n",
       "\n",
       "    .dataframe thead th {\n",
       "        text-align: right;\n",
       "    }\n",
       "</style>\n",
       "<table border=\"1\" class=\"dataframe\">\n",
       "  <thead>\n",
       "    <tr style=\"text-align: right;\">\n",
       "      <th></th>\n",
       "      <th>Global_active_power</th>\n",
       "      <th>Global_reactive_power</th>\n",
       "      <th>Voltage</th>\n",
       "      <th>Global_intensity</th>\n",
       "      <th>Sub_metering_1</th>\n",
       "      <th>Sub_metering_2</th>\n",
       "      <th>Sub_metering_3</th>\n",
       "      <th>Sub_metering_4</th>\n",
       "    </tr>\n",
       "    <tr>\n",
       "      <th>datetime</th>\n",
       "      <th></th>\n",
       "      <th></th>\n",
       "      <th></th>\n",
       "      <th></th>\n",
       "      <th></th>\n",
       "      <th></th>\n",
       "      <th></th>\n",
       "      <th></th>\n",
       "    </tr>\n",
       "  </thead>\n",
       "  <tbody>\n",
       "    <tr>\n",
       "      <th>2006-12-16 17:24:00</th>\n",
       "      <td>4.216</td>\n",
       "      <td>0.418</td>\n",
       "      <td>234.839996</td>\n",
       "      <td>18.4</td>\n",
       "      <td>0.0</td>\n",
       "      <td>1.0</td>\n",
       "      <td>17.0</td>\n",
       "      <td>52.266670</td>\n",
       "    </tr>\n",
       "    <tr>\n",
       "      <th>2006-12-16 17:25:00</th>\n",
       "      <td>5.360</td>\n",
       "      <td>0.436</td>\n",
       "      <td>233.630005</td>\n",
       "      <td>23.0</td>\n",
       "      <td>0.0</td>\n",
       "      <td>1.0</td>\n",
       "      <td>16.0</td>\n",
       "      <td>72.333336</td>\n",
       "    </tr>\n",
       "    <tr>\n",
       "      <th>2006-12-16 17:26:00</th>\n",
       "      <td>5.374</td>\n",
       "      <td>0.498</td>\n",
       "      <td>233.289993</td>\n",
       "      <td>23.0</td>\n",
       "      <td>0.0</td>\n",
       "      <td>2.0</td>\n",
       "      <td>17.0</td>\n",
       "      <td>70.566666</td>\n",
       "    </tr>\n",
       "    <tr>\n",
       "      <th>2006-12-16 17:27:00</th>\n",
       "      <td>5.388</td>\n",
       "      <td>0.502</td>\n",
       "      <td>233.740005</td>\n",
       "      <td>23.0</td>\n",
       "      <td>0.0</td>\n",
       "      <td>1.0</td>\n",
       "      <td>17.0</td>\n",
       "      <td>71.800003</td>\n",
       "    </tr>\n",
       "    <tr>\n",
       "      <th>2006-12-16 17:28:00</th>\n",
       "      <td>3.666</td>\n",
       "      <td>0.528</td>\n",
       "      <td>235.679993</td>\n",
       "      <td>15.8</td>\n",
       "      <td>0.0</td>\n",
       "      <td>1.0</td>\n",
       "      <td>17.0</td>\n",
       "      <td>43.099998</td>\n",
       "    </tr>\n",
       "  </tbody>\n",
       "</table>\n",
       "</div>"
      ],
      "text/plain": [
       "                     Global_active_power  Global_reactive_power     Voltage  \\\n",
       "datetime                                                                      \n",
       "2006-12-16 17:24:00                4.216                  0.418  234.839996   \n",
       "2006-12-16 17:25:00                5.360                  0.436  233.630005   \n",
       "2006-12-16 17:26:00                5.374                  0.498  233.289993   \n",
       "2006-12-16 17:27:00                5.388                  0.502  233.740005   \n",
       "2006-12-16 17:28:00                3.666                  0.528  235.679993   \n",
       "\n",
       "                     Global_intensity  Sub_metering_1  Sub_metering_2  \\\n",
       "datetime                                                                \n",
       "2006-12-16 17:24:00              18.4             0.0             1.0   \n",
       "2006-12-16 17:25:00              23.0             0.0             1.0   \n",
       "2006-12-16 17:26:00              23.0             0.0             2.0   \n",
       "2006-12-16 17:27:00              23.0             0.0             1.0   \n",
       "2006-12-16 17:28:00              15.8             0.0             1.0   \n",
       "\n",
       "                     Sub_metering_3  Sub_metering_4  \n",
       "datetime                                             \n",
       "2006-12-16 17:24:00            17.0       52.266670  \n",
       "2006-12-16 17:25:00            16.0       72.333336  \n",
       "2006-12-16 17:26:00            17.0       70.566666  \n",
       "2006-12-16 17:27:00            17.0       71.800003  \n",
       "2006-12-16 17:28:00            17.0       43.099998  "
      ]
     },
     "execution_count": 94,
     "metadata": {},
     "output_type": "execute_result"
    }
   ],
   "source": [
    "df.head()"
   ]
  },
  {
   "cell_type": "code",
   "execution_count": 95,
   "metadata": {},
   "outputs": [],
   "source": [
    "daily_df = df.resample('D').sum()"
   ]
  },
  {
   "cell_type": "code",
   "execution_count": 96,
   "metadata": {},
   "outputs": [
    {
     "data": {
      "text/html": [
       "<div>\n",
       "<style scoped>\n",
       "    .dataframe tbody tr th:only-of-type {\n",
       "        vertical-align: middle;\n",
       "    }\n",
       "\n",
       "    .dataframe tbody tr th {\n",
       "        vertical-align: top;\n",
       "    }\n",
       "\n",
       "    .dataframe thead th {\n",
       "        text-align: right;\n",
       "    }\n",
       "</style>\n",
       "<table border=\"1\" class=\"dataframe\">\n",
       "  <thead>\n",
       "    <tr style=\"text-align: right;\">\n",
       "      <th></th>\n",
       "      <th>Global_active_power</th>\n",
       "      <th>Global_reactive_power</th>\n",
       "      <th>Voltage</th>\n",
       "      <th>Global_intensity</th>\n",
       "      <th>Sub_metering_1</th>\n",
       "      <th>Sub_metering_2</th>\n",
       "      <th>Sub_metering_3</th>\n",
       "      <th>Sub_metering_4</th>\n",
       "    </tr>\n",
       "    <tr>\n",
       "      <th>datetime</th>\n",
       "      <th></th>\n",
       "      <th></th>\n",
       "      <th></th>\n",
       "      <th></th>\n",
       "      <th></th>\n",
       "      <th></th>\n",
       "      <th></th>\n",
       "      <th></th>\n",
       "    </tr>\n",
       "  </thead>\n",
       "  <tbody>\n",
       "    <tr>\n",
       "      <th>2006-12-16</th>\n",
       "      <td>1209.176025</td>\n",
       "      <td>34.922001</td>\n",
       "      <td>93552.53125</td>\n",
       "      <td>5180.799805</td>\n",
       "      <td>0.0</td>\n",
       "      <td>546.0</td>\n",
       "      <td>4926.0</td>\n",
       "      <td>14680.933594</td>\n",
       "    </tr>\n",
       "    <tr>\n",
       "      <th>2006-12-17</th>\n",
       "      <td>3390.459961</td>\n",
       "      <td>226.005997</td>\n",
       "      <td>345725.31250</td>\n",
       "      <td>14398.599609</td>\n",
       "      <td>2033.0</td>\n",
       "      <td>4187.0</td>\n",
       "      <td>13341.0</td>\n",
       "      <td>36946.667969</td>\n",
       "    </tr>\n",
       "    <tr>\n",
       "      <th>2006-12-18</th>\n",
       "      <td>2203.825928</td>\n",
       "      <td>161.792007</td>\n",
       "      <td>347373.62500</td>\n",
       "      <td>9247.200195</td>\n",
       "      <td>1063.0</td>\n",
       "      <td>2621.0</td>\n",
       "      <td>14018.0</td>\n",
       "      <td>19028.433594</td>\n",
       "    </tr>\n",
       "    <tr>\n",
       "      <th>2006-12-19</th>\n",
       "      <td>1666.193970</td>\n",
       "      <td>150.942001</td>\n",
       "      <td>348479.00000</td>\n",
       "      <td>7094.000000</td>\n",
       "      <td>839.0</td>\n",
       "      <td>7602.0</td>\n",
       "      <td>6197.0</td>\n",
       "      <td>13131.900391</td>\n",
       "    </tr>\n",
       "    <tr>\n",
       "      <th>2006-12-20</th>\n",
       "      <td>2225.748047</td>\n",
       "      <td>160.998001</td>\n",
       "      <td>348923.62500</td>\n",
       "      <td>9313.000000</td>\n",
       "      <td>0.0</td>\n",
       "      <td>2648.0</td>\n",
       "      <td>14063.0</td>\n",
       "      <td>20384.800781</td>\n",
       "    </tr>\n",
       "    <tr>\n",
       "      <th>2006-12-21</th>\n",
       "      <td>1723.287964</td>\n",
       "      <td>144.434006</td>\n",
       "      <td>347096.40625</td>\n",
       "      <td>7266.399902</td>\n",
       "      <td>1765.0</td>\n",
       "      <td>2692.0</td>\n",
       "      <td>10456.0</td>\n",
       "      <td>13808.466797</td>\n",
       "    </tr>\n",
       "    <tr>\n",
       "      <th>2006-12-22</th>\n",
       "      <td>2341.337891</td>\n",
       "      <td>186.906006</td>\n",
       "      <td>347305.75000</td>\n",
       "      <td>9897.000000</td>\n",
       "      <td>3151.0</td>\n",
       "      <td>350.0</td>\n",
       "      <td>11131.0</td>\n",
       "      <td>24390.300781</td>\n",
       "    </tr>\n",
       "    <tr>\n",
       "      <th>2006-12-23</th>\n",
       "      <td>4773.386230</td>\n",
       "      <td>221.470001</td>\n",
       "      <td>345795.93750</td>\n",
       "      <td>20200.400391</td>\n",
       "      <td>2669.0</td>\n",
       "      <td>425.0</td>\n",
       "      <td>14726.0</td>\n",
       "      <td>61736.433594</td>\n",
       "    </tr>\n",
       "    <tr>\n",
       "      <th>2006-12-24</th>\n",
       "      <td>2550.011963</td>\n",
       "      <td>149.899994</td>\n",
       "      <td>348029.90625</td>\n",
       "      <td>11002.200195</td>\n",
       "      <td>1703.0</td>\n",
       "      <td>5082.0</td>\n",
       "      <td>6891.0</td>\n",
       "      <td>28824.199219</td>\n",
       "    </tr>\n",
       "    <tr>\n",
       "      <th>2006-12-25</th>\n",
       "      <td>2743.120117</td>\n",
       "      <td>240.279999</td>\n",
       "      <td>350495.90625</td>\n",
       "      <td>11450.200195</td>\n",
       "      <td>6620.0</td>\n",
       "      <td>1962.0</td>\n",
       "      <td>5795.0</td>\n",
       "      <td>31341.666016</td>\n",
       "    </tr>\n",
       "  </tbody>\n",
       "</table>\n",
       "</div>"
      ],
      "text/plain": [
       "            Global_active_power  Global_reactive_power       Voltage  \\\n",
       "datetime                                                               \n",
       "2006-12-16          1209.176025              34.922001   93552.53125   \n",
       "2006-12-17          3390.459961             226.005997  345725.31250   \n",
       "2006-12-18          2203.825928             161.792007  347373.62500   \n",
       "2006-12-19          1666.193970             150.942001  348479.00000   \n",
       "2006-12-20          2225.748047             160.998001  348923.62500   \n",
       "2006-12-21          1723.287964             144.434006  347096.40625   \n",
       "2006-12-22          2341.337891             186.906006  347305.75000   \n",
       "2006-12-23          4773.386230             221.470001  345795.93750   \n",
       "2006-12-24          2550.011963             149.899994  348029.90625   \n",
       "2006-12-25          2743.120117             240.279999  350495.90625   \n",
       "\n",
       "            Global_intensity  Sub_metering_1  Sub_metering_2  Sub_metering_3  \\\n",
       "datetime                                                                       \n",
       "2006-12-16       5180.799805             0.0           546.0          4926.0   \n",
       "2006-12-17      14398.599609          2033.0          4187.0         13341.0   \n",
       "2006-12-18       9247.200195          1063.0          2621.0         14018.0   \n",
       "2006-12-19       7094.000000           839.0          7602.0          6197.0   \n",
       "2006-12-20       9313.000000             0.0          2648.0         14063.0   \n",
       "2006-12-21       7266.399902          1765.0          2692.0         10456.0   \n",
       "2006-12-22       9897.000000          3151.0           350.0         11131.0   \n",
       "2006-12-23      20200.400391          2669.0           425.0         14726.0   \n",
       "2006-12-24      11002.200195          1703.0          5082.0          6891.0   \n",
       "2006-12-25      11450.200195          6620.0          1962.0          5795.0   \n",
       "\n",
       "            Sub_metering_4  \n",
       "datetime                    \n",
       "2006-12-16    14680.933594  \n",
       "2006-12-17    36946.667969  \n",
       "2006-12-18    19028.433594  \n",
       "2006-12-19    13131.900391  \n",
       "2006-12-20    20384.800781  \n",
       "2006-12-21    13808.466797  \n",
       "2006-12-22    24390.300781  \n",
       "2006-12-23    61736.433594  \n",
       "2006-12-24    28824.199219  \n",
       "2006-12-25    31341.666016  "
      ]
     },
     "execution_count": 96,
     "metadata": {},
     "output_type": "execute_result"
    }
   ],
   "source": [
    "daily_df.head(10)"
   ]
  },
  {
   "cell_type": "code",
   "execution_count": null,
   "metadata": {},
   "outputs": [],
   "source": [
    "def split_dataset(data):\n",
    "    train,test = data[1:-328], data[-328:-6]\n",
    "    train=np.array(np.split(train,len(train)/7))\n",
    "    test=np.array(np.split(test,len(test)/7))\n",
    "    return train,test"
   ]
  },
  {
   "cell_type": "code",
   "execution_count": null,
   "metadata": {},
   "outputs": [],
   "source": [
    "train,test=split_dataset(daily_df.values)"
   ]
  },
  {
   "cell_type": "code",
   "execution_count": 112,
   "metadata": {},
   "outputs": [
    {
     "data": {
      "text/plain": [
       "(7, 8)"
      ]
     },
     "execution_count": 112,
     "metadata": {},
     "output_type": "execute_result"
    }
   ],
   "source": [
    "data = train.reshape(train.shape[0]*train.shape[1],train.shape[2])\n",
    "in_=data[-7:,:]\n",
    "# in_=in_.reshape(in_.shape[0],1)\n",
    "in_.shape\n",
    "# train_x,train_y=to_supervised(train,n_input)\n",
    "# train_x.shape"
   ]
  },
  {
   "cell_type": "code",
   "execution_count": null,
   "metadata": {},
   "outputs": [],
   "source": [
    "from sklearn.metrics import mean_squared_error\n",
    "def evaluate_forecasts(actual, predicted):\n",
    "    scores = list()\n",
    "    for i in range(actual.shape[1]):\n",
    "        mse = mean_squared_error(actual[:, i], predicted[:, i])\n",
    "        rmse = np.sqrt(mse)\n",
    "        scores.append(rmse)\n",
    "    s = 0\n",
    "    for row in range(actual.shape[0]):\n",
    "        for col in range(actual.shape[1]):\n",
    "            s += (actual[row, col] - predicted[row, col])**2\n",
    "    score = np.sqrt(s / (actual.shape[0] * actual.shape[1]))\n",
    "    return score, scores"
   ]
  },
  {
   "cell_type": "markdown",
   "metadata": {},
   "source": [
    "### LSTM MODEL"
   ]
  },
  {
   "cell_type": "code",
   "execution_count": 63,
   "metadata": {},
   "outputs": [],
   "source": [
    "def to_supervised(train, n_input,n_out=7):\n",
    "    data = train.reshape(train.shape[0]*train.shape[1],train.shape[2])\n",
    "    X,y=list(),list()\n",
    "    in_start=0\n",
    "    for i in range(len(data)):\n",
    "        in_end=in_start+n_input\n",
    "        out_end=in_end+n_out\n",
    "        if out_end <= len(data):\n",
    "            x_input=data[in_start:in_end,:]\n",
    "            X.append(x_input)\n",
    "            y.append(data[in_end:out_end,0])\n",
    "        in_start+=1\n",
    "    return np.array(X),np.array(y)"
   ]
  },
  {
   "cell_type": "code",
   "execution_count": 67,
   "metadata": {},
   "outputs": [],
   "source": [
    "def evaluate_model_lstm(train, test, n_input):\n",
    "    model = build_model_lstm(train,n_input)\n",
    "    history = [x for x in train]\n",
    "    predictions = list()\n",
    "    for i in range(len(test)):\n",
    "        yhat_sequence = forecast(model, history, n_input)\n",
    "        predictions.append(yhat_sequence)\n",
    "        history.append(test[i, :])\n",
    "    predictions = np.array(predictions)\n",
    "    score, scores = evaluate_forecasts(test[:, :, 0], predictions)\n",
    "    return score, scores"
   ]
  },
  {
   "cell_type": "code",
   "execution_count": 73,
   "metadata": {},
   "outputs": [],
   "source": [
    "def build_model_lstm(train,n_input):\n",
    "    train_x,train_y=to_supervised(train,n_input)\n",
    "    n_timesteps, n_features, n_outputs = train_x.shape[1], train_x.shape[2], train_y.shape[1]\n",
    "    model = Sequential()\n",
    "    model.add(LSTM(200, activation='relu', return_sequences=True,input_shape=(n_timesteps, n_features)))\n",
    "    model.add(LSTM(100,activation='relu'))\n",
    "    model.add(Dense(100, activation='relu'))\n",
    "    model.add(Dense(n_outputs))\n",
    "    model.compile(loss='mse', optimizer='adam')\n",
    "    print(model.summary())\n",
    "    model.fit(train_x, train_y, epochs=10, batch_size=16, verbose=1)\n",
    "    return model"
   ]
  },
  {
   "cell_type": "code",
   "execution_count": 75,
   "metadata": {},
   "outputs": [],
   "source": [
    "def forecast(model, history, n_input):\n",
    "    data = np.array(history)\n",
    "    data = data.reshape((data.shape[0]*data.shape[1], data.shape[2]))\n",
    "    input_x = data[-n_input:, :]\n",
    "    input_x = input_x.reshape((1, input_x.shape[0], input_x.shape[1]))\n",
    "    yhat = model.predict(input_x, verbose=0)\n",
    "    yhat = yhat[0]\n",
    "    return yhat"
   ]
  },
  {
   "cell_type": "code",
   "execution_count": 70,
   "metadata": {},
   "outputs": [],
   "source": [
    "def summarize_scores(name, score, scores):\n",
    "    s_scores = ', '.join(['%.1f' % s for s in scores])\n",
    "    print('%s: [%.3f] %s' % (name, score, s_scores))"
   ]
  },
  {
   "cell_type": "code",
   "execution_count": 71,
   "metadata": {},
   "outputs": [],
   "source": [
    "n_input = 7"
   ]
  },
  {
   "cell_type": "code",
   "execution_count": 78,
   "metadata": {},
   "outputs": [
    {
     "name": "stdout",
     "output_type": "stream",
     "text": [
      "Model: \"sequential_10\"\n",
      "_________________________________________________________________\n",
      "Layer (type)                 Output Shape              Param #   \n",
      "=================================================================\n",
      "lstm_20 (LSTM)               (None, 7, 200)            167200    \n",
      "_________________________________________________________________\n",
      "lstm_21 (LSTM)               (None, 100)               120400    \n",
      "_________________________________________________________________\n",
      "dense_20 (Dense)             (None, 100)               10100     \n",
      "_________________________________________________________________\n",
      "dense_21 (Dense)             (None, 7)                 707       \n",
      "=================================================================\n",
      "Total params: 298,407\n",
      "Trainable params: 298,407\n",
      "Non-trainable params: 0\n",
      "_________________________________________________________________\n",
      "None\n",
      "Train on 1100 samples\n",
      "Epoch 1/10\n",
      "1100/1100 [==============================] - 5s 4ms/sample - loss: 3193967.8566\n",
      "Epoch 2/10\n",
      "1100/1100 [==============================] - 1s 898us/sample - loss: 643747.9599\n",
      "Epoch 3/10\n",
      "1100/1100 [==============================] - 1s 885us/sample - loss: 422652.5806\n",
      "Epoch 4/10\n",
      "1100/1100 [==============================] - 1s 902us/sample - loss: 428359.7401\n",
      "Epoch 5/10\n",
      "1100/1100 [==============================] - 1s 900us/sample - loss: 350353.9868\n",
      "Epoch 6/10\n",
      "1100/1100 [==============================] - 1s 904us/sample - loss: 343543.4819\n",
      "Epoch 7/10\n",
      "1100/1100 [==============================] - 1s 955us/sample - loss: 329246.5372\n",
      "Epoch 8/10\n",
      "1100/1100 [==============================] - 1s 888us/sample - loss: 319474.1501\n",
      "Epoch 9/10\n",
      "1100/1100 [==============================] - 1s 908us/sample - loss: 307508.1673\n",
      "Epoch 10/10\n",
      "1100/1100 [==============================] - 1s 957us/sample - loss: 298196.5185\n"
     ]
    }
   ],
   "source": [
    "score, scores = evaluate_model_lstm(train, test, n_input)"
   ]
  },
  {
   "cell_type": "code",
   "execution_count": 81,
   "metadata": {},
   "outputs": [
    {
     "name": "stdout",
     "output_type": "stream",
     "text": [
      "lstm: [427.528] 432.1, 413.4, 407.1, 412.3, 431.6, 347.7, 528.3\n"
     ]
    },
    {
     "data": {
      "image/png": "[encoded data removed]",
      "text/plain": [
       "<Figure size 432x288 with 1 Axes>"
      ]
     },
     "metadata": {
      "needs_background": "light"
     },
     "output_type": "display_data"
    }
   ],
   "source": [
    "summarize_scores('lstm', score, scores)\n",
    "days = ['sun', 'mon', 'tue', 'wed', 'thr', 'fri', 'sat']\n",
    "pyplot.plot(days, scores, marker='o', label='lstm')\n",
    "pyplot.show()"
   ]
  },
  {
   "cell_type": "markdown",
   "metadata": {},
   "source": [
    "### ENCODER-DECODER LSTM"
   ]
  },
  {
   "cell_type": "code",
   "execution_count": 88,
   "metadata": {},
   "outputs": [],
   "source": [
    "def evaluate_model_edlstm(train, test, n_input):\n",
    "    model = build_model_EDLSTM(train,n_input)\n",
    "    history = [x for x in train]\n",
    "    predictions = list()\n",
    "    for i in range(len(test)):\n",
    "        yhat_sequence = forecast(model, history, n_input)\n",
    "        predictions.append(yhat_sequence)\n",
    "        history.append(test[i, :])\n",
    "    predictions = np.array(predictions)\n",
    "    score, scores = evaluate_forecasts(test[:, :, 0], predictions)\n",
    "    return score, scores"
   ]
  },
  {
   "cell_type": "code",
   "execution_count": 91,
   "metadata": {},
   "outputs": [],
   "source": [
    "def build_model_EDLSTM(train, n_input):\n",
    "    train_x, train_y = to_supervised(train,n_input)\n",
    "    n_timesteps, n_features, n_outputs = train_x.shape[1], train_x.shape[2], train_y.shape[1]\n",
    "    train_y = train_y.reshape((train_y.shape[0], train_y.shape[1], 1))\n",
    "    model = Sequential()\n",
    "    model.add(LSTM(200, activation='relu', input_shape=(n_timesteps, n_features)))\n",
    "    model.add(RepeatVector(n_outputs))\n",
    "    model.add(LSTM(200, activation='relu', return_sequences=True))\n",
    "    model.add(TimeDistributed(Dense(100, activation='relu')))\n",
    "    model.add(TimeDistributed(Dense(1)))\n",
    "    model.compile(loss='mse', optimizer='adam')\n",
    "    model.fit(train_x, train_y, epochs=10, batch_size=16, verbose=1)\n",
    "    return model"
   ]
  },
  {
   "cell_type": "code",
   "execution_count": 92,
   "metadata": {},
   "outputs": [
    {
     "name": "stdout",
     "output_type": "stream",
     "text": [
      "Train on 1100 samples\n",
      "Epoch 1/10\n",
      "1100/1100 [==============================] - 6s 6ms/sample - loss: 58118533.1509\n",
      "Epoch 2/10\n",
      "1100/1100 [==============================] - 2s 2ms/sample - loss: 3639877.6748\n",
      "Epoch 3/10\n",
      "1100/1100 [==============================] - 2s 2ms/sample - loss: 572545.6151\n",
      "Epoch 4/10\n",
      "1100/1100 [==============================] - 2s 1ms/sample - loss: 497872.3823\n",
      "Epoch 5/10\n",
      "1100/1100 [==============================] - 2s 1ms/sample - loss: 457064.2869\n",
      "Epoch 6/10\n",
      "1100/1100 [==============================] - 2s 1ms/sample - loss: 455131.4334\n",
      "Epoch 7/10\n",
      "1100/1100 [==============================] - 2s 1ms/sample - loss: 430052.1586\n",
      "Epoch 8/10\n",
      "1100/1100 [==============================] - 2s 1ms/sample - loss: 382743.9722\n",
      "Epoch 9/10\n",
      "1100/1100 [==============================] - 2s 1ms/sample - loss: 384300.72640s - loss: 3\n",
      "Epoch 10/10\n",
      "1100/1100 [==============================] - 2s 1ms/sample - loss: 369376.6734\n"
     ]
    }
   ],
   "source": [
    "score, scores = evaluate_model_edlstm(train, test, n_input)"
   ]
  },
  {
   "cell_type": "code",
   "execution_count": 93,
   "metadata": {},
   "outputs": [
    {
     "name": "stdout",
     "output_type": "stream",
     "text": [
      "ed-lstm: [478.815] 440.5, 400.1, 389.9, 486.2, 444.5, 440.3, 686.3\n"
     ]
    },
    {
     "data": {
      "image/png": "[encoded data removed]",
      "text/plain": [
       "<Figure size 432x288 with 1 Axes>"
      ]
     },
     "metadata": {
      "needs_background": "light"
     },
     "output_type": "display_data"
    }
   ],
   "source": [
    "summarize_scores('ed-lstm', score, scores)\n",
    "days = ['sun', 'mon', 'tue', 'wed', 'thr', 'fri', 'sat']\n",
    "pyplot.plot(days, scores, marker='o', label='lstm')\n",
    "pyplot.show()"
   ]
  },
  {
   "cell_type": "markdown",
   "metadata": {},
   "source": [
    "### CNN-LSTM MODEL"
   ]
  },
  {
   "cell_type": "code",
   "execution_count": 96,
   "metadata": {},
   "outputs": [],
   "source": [
    "def evaluate_model_cnnlstm(train, test, n_input):\n",
    "    model = build_model_CNNLSTM(train,n_input)\n",
    "    history = [x for x in train]\n",
    "    predictions = list()\n",
    "    for i in range(len(test)):\n",
    "        yhat_sequence = forecast(model, history, n_input)\n",
    "        predictions.append(yhat_sequence)\n",
    "        history.append(test[i, :])\n",
    "    predictions = np.array(predictions)\n",
    "    score, scores = evaluate_forecasts(test[:, :, 0], predictions)\n",
    "    return score, scores"
   ]
  },
  {
   "cell_type": "code",
   "execution_count": 99,
   "metadata": {},
   "outputs": [],
   "source": [
    "def build_model_CNNLSTM(train, n_input):\n",
    "    train_x, train_y = to_supervised(train,n_input)\n",
    "    n_timesteps, n_features, n_outputs = train_x.shape[1], train_x.shape[2], train_y.shape[1]\n",
    "    train_y = train_y.reshape((train_y.shape[0], train_y.shape[1], 1))\n",
    "    model = Sequential()\n",
    "    model.add(Conv1D(filters=64, kernel_size=3, activation='relu', input_shape=(n_timesteps,n_features)))\n",
    "    model.add(Conv1D(filters=64, kernel_size=3, activation='relu'))\n",
    "    model.add(MaxPooling1D(pool_size=2))\n",
    "    model.add(Flatten())\n",
    "    model.add(RepeatVector(n_outputs))\n",
    "    model.add(LSTM(200, activation='relu', return_sequences=True))\n",
    "    model.add(TimeDistributed(Dense(100, activation='relu')))\n",
    "    model.add(TimeDistributed(Dense(1)))\n",
    "    model.compile(loss='mse', optimizer='adam')\n",
    "    model.fit(train_x, train_y, epochs=10, batch_size=16, verbose=1)\n",
    "    return model"
   ]
  },
  {
   "cell_type": "code",
   "execution_count": 100,
   "metadata": {},
   "outputs": [
    {
     "name": "stdout",
     "output_type": "stream",
     "text": [
      "Train on 1100 samples\n",
      "Epoch 1/10\n",
      "1100/1100 [==============================] - 4s 3ms/sample - loss: 10236156.7859\n",
      "Epoch 2/10\n",
      "1100/1100 [==============================] - 1s 911us/sample - loss: 382895.0164\n",
      "Epoch 3/10\n",
      "1100/1100 [==============================] - 1s 1ms/sample - loss: 369123.7820\n",
      "Epoch 4/10\n",
      "1100/1100 [==============================] - 1s 1ms/sample - loss: 345251.56530s - loss: 33708 - ETA: 0s - loss: 33885\n",
      "Epoch 5/10\n",
      "1100/1100 [==============================] - 1s 888us/sample - loss: 340389.4716\n",
      "Epoch 6/10\n",
      "1100/1100 [==============================] - 1s 776us/sample - loss: 346080.4499\n",
      "Epoch 7/10\n",
      "1100/1100 [==============================] - 1s 978us/sample - loss: 339433.9718\n",
      "Epoch 8/10\n",
      "1100/1100 [==============================] - 1s 846us/sample - loss: 310812.1948\n",
      "Epoch 9/10\n",
      "1100/1100 [==============================] - 1s 831us/sample - loss: 312324.3738\n",
      "Epoch 10/10\n",
      "1100/1100 [==============================] - 1s 843us/sample - loss: 302812.1686\n"
     ]
    }
   ],
   "source": [
    "score, scores = evaluate_model_cnnlstm(train, test, n_input)"
   ]
  },
  {
   "cell_type": "code",
   "execution_count": 101,
   "metadata": {},
   "outputs": [
    {
     "name": "stdout",
     "output_type": "stream",
     "text": [
      "ed-lstm: [416.127] 450.3, 402.6, 361.2, 420.7, 393.5, 312.3, 536.1\n"
     ]
    },
    {
     "data": {
      "image/png": "[encoded data removed]",
      "text/plain": [
       "<Figure size 432x288 with 1 Axes>"
      ]
     },
     "metadata": {
      "needs_background": "light"
     },
     "output_type": "display_data"
    }
   ],
   "source": [
    "summarize_scores('ed-lstm', score, scores)\n",
    "days = ['sun', 'mon', 'tue', 'wed', 'thr', 'fri', 'sat']\n",
    "pyplot.plot(days, scores, marker='o', label='lstm')\n",
    "pyplot.show()"
   ]
  },
  {
   "cell_type": "markdown",
   "metadata": {},
   "source": [
    "### CONVLSTM MODEL"
   ]
  },
  {
   "cell_type": "code",
   "execution_count": 114,
   "metadata": {},
   "outputs": [],
   "source": [
    "def evaluate_model_convlstm(train, test, n_input):\n",
    "    model = build_model_CONVLSTM(train,n_input)\n",
    "    history = [x for x in train]\n",
    "    predictions = list()\n",
    "    for i in range(len(test)):\n",
    "        yhat_sequence = forecast_convlstm(model, history, n_input)\n",
    "        predictions.append(yhat_sequence)\n",
    "        history.append(test[i, :])\n",
    "    predictions = np.array(predictions)\n",
    "    score, scores = evaluate_forecasts(test[:, :, 0], predictions)\n",
    "    return score, scores"
   ]
  },
  {
   "cell_type": "code",
   "execution_count": 118,
   "metadata": {},
   "outputs": [],
   "source": [
    "def forecast_convlstm(model, history, n_input):\n",
    "    data = np.array(history)\n",
    "    data = data.reshape((data.shape[0]*data.shape[1], data.shape[2]))\n",
    "    input_x = data[-n_input:, :]\n",
    "    input_x = input_x.reshape((1, 1,1,input_x.shape[0],input_x.shape[1]))\n",
    "    yhat = model.predict(input_x, verbose=0)\n",
    "    yhat = yhat[0]\n",
    "    return yhat"
   ]
  },
  {
   "cell_type": "code",
   "execution_count": 126,
   "metadata": {},
   "outputs": [],
   "source": [
    "def build_model_CONVLSTM(train, n_input):\n",
    "    train_x, train_y = to_supervised(train,n_input)\n",
    "    n_timesteps, n_features, n_outputs = train_x.shape[1], train_x.shape[2], train_y.shape[1]\n",
    "    train_x = train_x.reshape((train_x.shape[0], 1, 1, n_timesteps, n_features))\n",
    "    train_y = train_y.reshape((train_y.shape[0], train_y.shape[1], 1))\n",
    "    model = Sequential()\n",
    "    model.add(ConvLSTM2D(filters=64, kernel_size=(1,3), activation='relu', input_shape=(1,1,n_timesteps,n_features)))\n",
    "    model.add(Flatten())\n",
    "    model.add(RepeatVector(n_outputs))\n",
    "    model.add(LSTM(200, activation='relu', return_sequences=True))\n",
    "    model.add(TimeDistributed(Dense(100, activation='relu')))\n",
    "    model.add(TimeDistributed(Dense(1)))\n",
    "    model.compile(loss='mse', optimizer='adam')\n",
    "    model.fit(train_x, train_y, epochs=10, batch_size=16, verbose=1)\n",
    "    return model"
   ]
  },
  {
   "cell_type": "code",
   "execution_count": 127,
   "metadata": {},
   "outputs": [
    {
     "name": "stdout",
     "output_type": "stream",
     "text": [
      "Train on 1100 samples\n",
      "Epoch 1/10\n",
      "1100/1100 [==============================] - 6s 5ms/sample - loss: 11706589.1253\n",
      "Epoch 2/10\n",
      "1100/1100 [==============================] - 2s 1ms/sample - loss: 428191.5467\n",
      "Epoch 3/10\n",
      "1100/1100 [==============================] - 1s 1ms/sample - loss: 349865.4243\n",
      "Epoch 4/10\n",
      "1100/1100 [==============================] - 1s 1ms/sample - loss: 312428.5986\n",
      "Epoch 5/10\n",
      "1100/1100 [==============================] - 1s 1ms/sample - loss: 321637.0232\n",
      "Epoch 6/10\n",
      "1100/1100 [==============================] - 1s 1ms/sample - loss: 279354.6757\n",
      "Epoch 7/10\n",
      "1100/1100 [==============================] - 1s 1ms/sample - loss: 279947.6269\n",
      "Epoch 8/10\n",
      "1100/1100 [==============================] - 2s 1ms/sample - loss: 281713.1159\n",
      "Epoch 9/10\n",
      "1100/1100 [==============================] - 2s 1ms/sample - loss: 343153.2792\n",
      "Epoch 10/10\n",
      "1100/1100 [==============================] - 1s 1ms/sample - loss: 289882.0839\n"
     ]
    }
   ],
   "source": [
    "score, scores = evaluate_model_convlstm(train, test, n_input)"
   ]
  },
  {
   "cell_type": "code",
   "execution_count": 128,
   "metadata": {},
   "outputs": [
    {
     "name": "stdout",
     "output_type": "stream",
     "text": [
      "ed-lstm: [396.279] 388.4, 373.1, 335.1, 372.2, 392.7, 312.7, 553.6\n"
     ]
    },
    {
     "data": {
      "image/png": "[encoded data removed]",
      "text/plain": [
       "<Figure size 432x288 with 1 Axes>"
      ]
     },
     "metadata": {
      "needs_background": "light"
     },
     "output_type": "display_data"
    }
   ],
   "source": [
    "summarize_scores('ed-lstm', score, scores)\n",
    "days = ['sun', 'mon', 'tue', 'wed', 'thr', 'fri', 'sat']\n",
    "pyplot.plot(days, scores, marker='o', label='lstm')\n",
    "pyplot.show()"
   ]
  },
  {
   "cell_type": "markdown",
   "metadata": {},
   "source": [
    "### XGBOOST"
   ]
  },
  {
   "cell_type": "code",
   "execution_count": 102,
   "metadata": {},
   "outputs": [],
   "source": [
    "from xgboost import XGBRegressor"
   ]
  },
  {
   "cell_type": "code",
   "execution_count": 130,
   "metadata": {},
   "outputs": [],
   "source": [
    "def to_supervised_xg(data,n_in,n_out=1):\n",
    "    n_vars = 1 if type(data) is list else data.shape[1]\n",
    "    df = pd.DataFrame(data)\n",
    "    cols = list()\n",
    "    for i in range(n_in, 0, -1):\n",
    "        cols.append(df.shift(i))\n",
    "    for i in range(0, n_out):\n",
    "        cols.append(df.shift(-i))\n",
    "    agg = pd.concat(cols, axis=1)\n",
    "    agg.dropna(inplace=True)\n",
    "    return agg.values"
   ]
  },
  {
   "cell_type": "code",
   "execution_count": 131,
   "metadata": {},
   "outputs": [],
   "source": [
    "data = to_supervised_xg(daily_df.values,2,1)"
   ]
  },
  {
   "cell_type": "code",
   "execution_count": 100,
   "metadata": {},
   "outputs": [],
   "source": [
    "def train_test_split(data, n_test):\n",
    "    return data[:-n_test, :], data[-n_test:, :]"
   ]
  },
  {
   "cell_type": "code",
   "execution_count": 150,
   "metadata": {},
   "outputs": [],
   "source": [
    "def walk_fw_validation(data, n_test):\n",
    "    preds = list()\n",
    "    n_vars=8\n",
    "    train, test = train_test_split(data, n_test)\n",
    "    history = [x for x in train]\n",
    "    for i in range(len(test)):\n",
    "        testX, testy = test[i, :-n_vars], test[i, -n_vars:]\n",
    "        yhat = forecast(history, testX)\n",
    "        preds.append(yhat)\n",
    "        history.append(test[i])\n",
    "#         print('>expected=%.1f, predicted=%.1f' % (testy, yhat))\n",
    "#     error = mean_absolute_error(test[:, 1], preds)\n",
    "    return test[:, 1], preds"
   ]
  },
  {
   "cell_type": "code",
   "execution_count": 148,
   "metadata": {},
   "outputs": [],
   "source": [
    "def forecast(history, testX):\n",
    "    train=np.asarray(history)\n",
    "    n_vars=8\n",
    "    trainX, trainy = train[:, :-n_vars], train[:, -n_vars:]\n",
    "    model = XGBRegressor(objective='reg:squarederror', n_estimators=1000)\n",
    "    model.fit(trainX, trainy)\n",
    "    yhat = model.predict(np.asarray([testX]))\n",
    "    return yhat[0]"
   ]
  },
  {
   "cell_type": "code",
   "execution_count": 146,
   "metadata": {},
   "outputs": [],
   "source": [
    "train,test=train_test_split(data,120)"
   ]
  },
  {
   "cell_type": "code",
   "execution_count": 152,
   "metadata": {},
   "outputs": [],
   "source": [
    " y, yhat = walk_fw_validation(data, 12)"
   ]
  },
  {
   "cell_type": "code",
   "execution_count": 153,
   "metadata": {},
   "outputs": [
    {
     "data": {
      "text/plain": [
       "[85382.69,\n",
       " 85867.15,\n",
       " -8229.247,\n",
       " 17802.37,\n",
       " 21335.826,\n",
       " 111785.836,\n",
       " 41731.91,\n",
       " 65356.09,\n",
       " -4035.4648,\n",
       " 63683.812,\n",
       " 35305.63,\n",
       " 136128.58]"
      ]
     },
     "execution_count": 153,
     "metadata": {},
     "output_type": "execute_result"
    }
   ],
   "source": [
    "yhat"
   ]
  },
  {
   "cell_type": "code",
   "execution_count": 154,
   "metadata": {},
   "outputs": [
    {
     "data": {
      "text/plain": [
       "120"
      ]
     },
     "execution_count": 154,
     "metadata": {},
     "output_type": "execute_result"
    }
   ],
   "source": [
    "len(test)"
   ]
  },
  {
   "cell_type": "code",
   "execution_count": null,
   "metadata": {},
   "outputs": [],
   "source": []
  }
 ],
 "metadata": {
  "kernelspec": {
   "display_name": "Python 3",
   "language": "python",
   "name": "python3"
  },
  "language_info": {
   "codemirror_mode": {
    "name": "ipython",
    "version": 3
   },
   "file_extension": ".py",
   "mimetype": "text/x-python",
   "name": "python",
   "nbconvert_exporter": "python",
   "pygments_lexer": "ipython3",
   "version": "3.7.7"
  }
 },
 "nbformat": 4,
 "nbformat_minor": 4
}
